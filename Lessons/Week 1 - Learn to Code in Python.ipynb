{
  "nbformat": 4,
  "nbformat_minor": 0,
  "metadata": {
    "colab": {
      "name": "Copy of Learn to Code",
      "provenance": [],
      "collapsed_sections": []
    },
    "kernelspec": {
      "name": "python3",
      "display_name": "Python 3"
    }
  },
  "cells": [
    {
      "cell_type": "markdown",
      "metadata": {
        "id": "rVSXS873lyvI"
      },
      "source": [
        "#  Case Academy: Bridge to Calculus \n",
        "### July 31: *Coding to Calculus*\n",
        "Welcome BtC Students!\n",
        "\n",
        "Today we're going to experiment with writing Python code.\n",
        "\n",
        "codecademy.com\n",
        "\n",
        "If you have questions, please reach out to Max Daniels: daniels.g@northeastern.edu\n",
        "## Problem: Bridge Crossing\n",
        "\n",
        "![](https://i.imgur.com/OWb1PQQ.jpg)\n",
        "The Harvard Bridge connects Boston to Cambridge and has been measured as 364.4 Smoots. \n",
        "\n",
        "The problem: $N$ students are going to cross the Harvard bridge. Each student is going to make one loop around the bridge for *each* of the students who have already crossed.\n",
        "![](https://i.imgur.com/sn0eUsn.jpg)\n",
        "\n",
        "So the first student can cross, the second student makes a loop before crossing, the third student makes two loops before crossing, and so on.\n",
        "\n",
        "*Can we compute how many smoots the students will travel?*\n"
      ]
    },
    {
      "cell_type": "markdown",
      "metadata": {
        "id": "Cgkv3efGocK3"
      },
      "source": [
        "## Basic Python\n",
        "\n",
        "Here's a list of cheat sheets and reference guides for Python: [from No Starch Press](https://ehmatthes.github.io/pcc_2e/cheat_sheets/cheat_sheets/)\n",
        "\n",
        "We'll be following the basics in this [introductory cheat sheet](https://github.com/ehmatthes/pcc_2e/releases/download/v1.0.1/beginners_python_cheat_sheet_pcc.pdf).\n"
      ]
    },
    {
      "cell_type": "markdown",
      "metadata": {
        "id": "NObAWEMuoXQy"
      },
      "source": [
        "### Talking to the Computer\n",
        "\n",
        "\n",
        "**Breakdown of the command window**"
      ]
    },
    {
      "cell_type": "markdown",
      "metadata": {
        "id": "HSjum_RDk2-k"
      },
      "source": [
        "**Print Statements**"
      ]
    },
    {
      "cell_type": "code",
      "metadata": {
        "id": "HgYhA-Xtk2A1",
        "outputId": "b5edbecc-84c9-4a3d-d349-4603a8d880ce",
        "colab": {
          "base_uri": "https://localhost:8080/",
          "height": 34
        }
      },
      "source": [
        "print(\"Welcome BtC Students!\")"
      ],
      "execution_count": null,
      "outputs": [
        {
          "output_type": "stream",
          "text": [
            "Welcome BtC Students!\n"
          ],
          "name": "stdout"
        }
      ]
    },
    {
      "cell_type": "code",
      "metadata": {
        "id": "UkWF-u3plqCe",
        "outputId": "891c3803-7602-4716-a530-9c5517bfd99a",
        "colab": {
          "base_uri": "https://localhost:8080/",
          "height": 34
        }
      },
      "source": [
        "# Please fill in the next line to print out\n",
        "#     the favorite color of your youngest group member:\n",
        "print(\"Purple\")\n",
        "\n",
        "\n",
        "\n",
        "# Steps and troubleshooting tips:\n",
        "# 1. Fill in text between the quotes - print(\"\") -> print(\"Your text here\")\n",
        "#      Make sure you also add parenthesis.\n",
        "\n",
        "# 2. Make sure to run the code by pressing the black play button in the top left.\n",
        "\n",
        "# 3. Running your code may take a bit."
      ],
      "execution_count": null,
      "outputs": [
        {
          "output_type": "stream",
          "text": [
            "Purple\n"
          ],
          "name": "stdout"
        }
      ]
    },
    {
      "cell_type": "code",
      "metadata": {
        "id": "bUxf1q8vxy54"
      },
      "source": [
        "# On the next lines, print 5 things you see around the room.\n",
        "# Number 1:\n",
        "print(\"\")\n",
        "\n",
        "# Number 2:\n",
        "print(\"\")\n",
        "\n",
        "# Number 3:\n",
        "print(\"\")\n",
        "\n",
        "# Number 4: (fill in your own print statement!)\n",
        "\n",
        "# Number 5: (fill in your own print statement!)\n",
        "\n",
        "\n"
      ],
      "execution_count": null,
      "outputs": []
    },
    {
      "cell_type": "markdown",
      "metadata": {
        "id": "W47rXseHofUy"
      },
      "source": [
        "**Data Types**"
      ]
    },
    {
      "cell_type": "code",
      "metadata": {
        "id": "jv9dVMGYni2D",
        "outputId": "f711b5d7-1fd8-4503-878c-e632190a3c69",
        "colab": {
          "base_uri": "https://localhost:8080/",
          "height": 102
        }
      },
      "source": [
        "print(\"a\")            # Strings:  letters of text written in quotes \n",
        "print(3)              # Numbers:  can be decimals, fractions or whole numbers\n",
        "print([1, 2, 3, 4])   # Lists:    can hold lots of pieces of data\n",
        "print(True)           # Boolean:  a True/False variable\n",
        "\n",
        "rose = \"Rose!\"\n",
        "print(rose)"
      ],
      "execution_count": null,
      "outputs": [
        {
          "output_type": "stream",
          "text": [
            "a\n",
            "3\n",
            "[1, 2, 3, 4]\n",
            "True\n",
            "Rose!\n"
          ],
          "name": "stdout"
        }
      ]
    },
    {
      "cell_type": "code",
      "metadata": {
        "id": "L9qAy9Qknm2b",
        "outputId": "30320719-22fc-4890-e7ca-2195afd9dcd7",
        "colab": {
          "base_uri": "https://localhost:8080/",
          "height": 51
        }
      },
      "source": [
        "# On the next line, please print the number of the month: \n",
        "print(\"I like school\")\n",
        "\n",
        "# Then, print a list of everyone's favorite number:\n",
        "print()"
      ],
      "execution_count": null,
      "outputs": [
        {
          "output_type": "stream",
          "text": [
            "I like school\n",
            "\n"
          ],
          "name": "stdout"
        }
      ]
    },
    {
      "cell_type": "markdown",
      "metadata": {
        "id": "Uw9jYPv9oMav"
      },
      "source": [
        "### Variables and Loops"
      ]
    },
    {
      "cell_type": "markdown",
      "metadata": {
        "id": "zl7tH4UNolgo"
      },
      "source": [
        "**Variables**\n",
        "\n",
        "Python code lets you keep data laying around by putting it into a variable. Each variable is like the input variable of a function."
      ]
    },
    {
      "cell_type": "code",
      "metadata": {
        "id": "P9u3QZHgontN",
        "outputId": "7a2942dd-f032-4499-caf3-413043267ced",
        "colab": {
          "base_uri": "https://localhost:8080/",
          "height": 34
        }
      },
      "source": [
        "x = 3\n",
        "m = 4\n",
        "b = 2\n",
        "\n",
        "y = m*x + b\n",
        "print(y)"
      ],
      "execution_count": null,
      "outputs": [
        {
          "output_type": "stream",
          "text": [
            "14\n"
          ],
          "name": "stdout"
        }
      ]
    },
    {
      "cell_type": "code",
      "metadata": {
        "id": "rXPThbCCP5jo"
      },
      "source": [
        "# Discuss as a group: will the output read \"letter\" or \"a\" ?\n",
        "letter = \"a\"\n",
        "print(letter) "
      ],
      "execution_count": null,
      "outputs": []
    },
    {
      "cell_type": "code",
      "metadata": {
        "id": "bccreXjtpdLT"
      },
      "source": [
        "letter = \"a\"\n",
        "print(letter)\n",
        "\n",
        "letter = \"b\"\n",
        "\n",
        "# Discuss as a group: will the output read \"letter\" or \"a\" or \"b\" ?\n",
        "print(letter)"
      ],
      "execution_count": null,
      "outputs": []
    },
    {
      "cell_type": "markdown",
      "metadata": {
        "id": "GdufcW1ktfIl"
      },
      "source": [
        "**Interacting with Data**\n",
        "\n",
        "Addition:"
      ]
    },
    {
      "cell_type": "code",
      "metadata": {
        "id": "vnpmu42Tpv2D"
      },
      "source": [
        "number = 1\n",
        "string = \"2\"\n",
        "\n",
        "# What do you expect to see? Note the difference between 2 and \"2\"\n",
        "print(number + 1)\n",
        "print(string + \"2\")"
      ],
      "execution_count": null,
      "outputs": []
    },
    {
      "cell_type": "code",
      "metadata": {
        "id": "TWpULyQEqMBU",
        "outputId": "758a4e38-8b59-4cd1-8a7c-97788f822205",
        "colab": {
          "base_uri": "https://localhost:8080/",
          "height": 50
        }
      },
      "source": [
        "# What does + do for strings? In the next few lines, use print statements to \n",
        "#     experiment:\n",
        "\n",
        "print(\"\" + \"\")\n",
        "print()\n",
        "# ..."
      ],
      "execution_count": null,
      "outputs": [
        {
          "output_type": "stream",
          "text": [
            "\n",
            "\n"
          ],
          "name": "stdout"
        }
      ]
    },
    {
      "cell_type": "markdown",
      "metadata": {
        "id": "KWrgFlB3sODF"
      },
      "source": [
        "Other math:"
      ]
    },
    {
      "cell_type": "code",
      "metadata": {
        "id": "AVhy2GecsGmv",
        "outputId": "0509f310-4315-4666-b4c4-5dd370ad9f64",
        "colab": {
          "base_uri": "https://localhost:8080/",
          "height": 34
        }
      },
      "source": [
        "twelve = 3 * 4\n",
        "two = 4 / 2\n",
        "ten = twelve - two\n",
        "one_hundred = x**2\n",
        "\n",
        "print(one_hundred)\n",
        "# Using the variables above, and without typing any numbers 0-9,\n",
        "#     can you use math expressions to put 4 in the variable four?\n",
        "#four = \n",
        "\n",
        "# Here are some harder ones:\n",
        "#twenty_six = \n",
        "#twenty_five = "
      ],
      "execution_count": null,
      "outputs": [
        {
          "output_type": "stream",
          "text": [
            "9\n"
          ],
          "name": "stdout"
        }
      ]
    },
    {
      "cell_type": "markdown",
      "metadata": {
        "id": "v6-Nv1HBotjn"
      },
      "source": [
        "**Loops and Control Blocks**\n",
        "\n",
        "The \"proper grammar,\" known as the syntax, for the If loop requires a special indented form:\n",
        "```\n",
        "if(condition):\n",
        "  print(\"Success\")\n",
        "```\n",
        "\n",
        "The colon and indentation tell the Python interpreter which statements run in the If loop.\n",
        "\n",
        "Confusingly, Python treats `x = 4` different from `x == 4`. \n",
        "- The statement `x = 4` says \"the input variable $x$ has the value $4$.\"\n",
        "- The statement `x == 4` asks \"does the input variable $x$ have the value $4$?\" and will return True or False."
      ]
    },
    {
      "cell_type": "code",
      "metadata": {
        "id": "Q8akUgpcqAzD",
        "outputId": "dcf3ff15-b0cd-4b1b-fb5c-3df322fff78a",
        "colab": {
          "base_uri": "https://localhost:8080/",
          "height": 51
        }
      },
      "source": [
        "# Please modify this code to output the following:\n",
        "\n",
        "# Welcome to New York\n",
        "# It's pretty cold!\n",
        "\n",
        "summertime = True\n",
        "living_in = \"Attleboro\"\n",
        "\n",
        "if(summertime):\n",
        "  print(\"It's pretty hot!\")\n",
        "else:\n",
        "  print(\"It's pretty cold!\")\n",
        "\n",
        "if(living_in==\"Boston\"):\n",
        "  print(\"Welcome to Boston\")\n",
        "# elif is for else-if\n",
        "elif(living_in == \"New York\"):\n",
        "  print(\"Welcome to New York\")\n",
        "elif(living_in==\"attleboro\"):\n",
        "  print(\"Welcome to attleboro\")\n",
        "else:\n",
        "  print(\"Welcome!\")\n"
      ],
      "execution_count": null,
      "outputs": [
        {
          "output_type": "stream",
          "text": [
            "It's pretty hot!\n",
            "Welcome!\n"
          ],
          "name": "stdout"
        }
      ]
    },
    {
      "cell_type": "markdown",
      "metadata": {
        "id": "FVogRoP5tQQz"
      },
      "source": [
        "Loops:\n",
        "\n",
        "A loop is a way to run the same piece of code multiple times.\n",
        "\n",
        "Here are two equivalent pieces of code:"
      ]
    },
    {
      "cell_type": "code",
      "metadata": {
        "id": "iRchxyawuJHO",
        "outputId": "19c6f0ad-17bf-4bed-8d09-8f88d818ed50",
        "colab": {
          "base_uri": "https://localhost:8080/",
          "height": 85
        }
      },
      "source": [
        "location = \"Boston\"\n",
        "greeting = \"Welcome to \" + location + \"!\"\n",
        "print(greeting)\n",
        "\n",
        "location = \"New York\"\n",
        "greeting = \"Welcome to \" + location + \"!\"\n",
        "print(greeting)\n",
        "\n",
        "location = \"Vancouver\"\n",
        "greeting = \"Welcome to \" + location + \"!\"\n",
        "print(greeting)\n",
        "\n",
        "location = \"New Orleans\"\n",
        "greeting = \"Welcome to \" + location + \"!\"\n",
        "print(greeting)"
      ],
      "execution_count": null,
      "outputs": [
        {
          "output_type": "stream",
          "text": [
            "Welcome to Boston!\n",
            "Welcome to New York!\n",
            "Welcome to Vancouver!\n",
            "Welcome to New Orleans!\n"
          ],
          "name": "stdout"
        }
      ]
    },
    {
      "cell_type": "code",
      "metadata": {
        "id": "w_q-JnfytTgQ",
        "outputId": "1ed47343-8c00-4c37-fb8a-7d94e7b840b6",
        "colab": {
          "base_uri": "https://localhost:8080/",
          "height": 153
        }
      },
      "source": [
        "for location in [\"Boston\", \"New York\", \"Vancouver\", \"New Orleans\", \"Atlanta\", \"San Francisco\", \"Bowling Green\", \"Dominican Republic\"]:\n",
        "  greeting = \"Welcome to \" + location + \"!\"\n",
        "  print(greeting)"
      ],
      "execution_count": null,
      "outputs": [
        {
          "output_type": "stream",
          "text": [
            "Welcome to Boston!\n",
            "Welcome to New York!\n",
            "Welcome to Vancouver!\n",
            "Welcome to New Orleans!\n",
            "Welcome to Atlanta!\n",
            "Welcome to San Francisco!\n",
            "Welcome to Bowling Green!\n",
            "Welcome to Dominican Republic!\n"
          ],
          "name": "stdout"
        }
      ]
    },
    {
      "cell_type": "markdown",
      "metadata": {
        "id": "wxdeQrPduUTA"
      },
      "source": [
        "Python has a convenient way to get the first $N$ numbers to use in a loop. The language assumes that indices start at 0:"
      ]
    },
    {
      "cell_type": "code",
      "metadata": {
        "id": "A-ppIM7Dudz6",
        "outputId": "79297ccc-7b07-44bc-86a2-a333e11b28c8",
        "colab": {
          "base_uri": "https://localhost:8080/",
          "height": 187
        }
      },
      "source": [
        "\n",
        "for number in range(10):\n",
        "  print(number)"
      ],
      "execution_count": null,
      "outputs": [
        {
          "output_type": "stream",
          "text": [
            "0\n",
            "1\n",
            "2\n",
            "3\n",
            "4\n",
            "5\n",
            "6\n",
            "7\n",
            "8\n",
            "9\n"
          ],
          "name": "stdout"
        }
      ]
    },
    {
      "cell_type": "markdown",
      "metadata": {
        "id": "U3vIbAAAu-Un"
      },
      "source": [
        "But watch out! If you ask for the first $N$ numbers starting from $0$, that means everything up to but *not including* $N$."
      ]
    },
    {
      "cell_type": "markdown",
      "metadata": {
        "id": "_N7_yfqjqSTa"
      },
      "source": [
        "## Bridge Crossing\n",
        "\n",
        "Pretend Max is a dumb computer. Tell him how to count the number of times people cross the bridge.\n",
        "\n",
        "Some phrases he will understand:\n",
        "- For each person, run the code _____.\n",
        "- Keep track of the number _____.\n",
        "- Add 1 to that number. Add 3 to that number. Muliply it by 20. (etc)\n",
        "- Count the people as they cross. For the \\_th person, run the code _____."
      ]
    },
    {
      "cell_type": "code",
      "metadata": {
        "id": "Ux27wKqvuM9r",
        "outputId": "cf71a5ff-9ced-43d3-8bcf-a6e3631865c4",
        "colab": {
          "base_uri": "https://localhost:8080/",
          "height": 85
        }
      },
      "source": [
        "N = 1 \n",
        "\n",
        "# 5 people will cross the bridge\n",
        "\n",
        "'''\n",
        "nth_person   |   distance_traveled\n",
        "0            |    1\n",
        "1            |    3\n",
        "2            |    5\n",
        "\n",
        "'''\n",
        "\n",
        "def total_crossings(N):\n",
        "  total_crossings = 0\n",
        "  for nth_person in range(N):\n",
        "    bridge_crossings = 2 * nth_person + 1\n",
        "    total_crossings = total_crossings + bridge_crossings\n",
        "  return total_crossings\n",
        "print(total_crossings(1))\n",
        "print(total_crossings(2))\n",
        "print(total_crossings(3))\n",
        "print(total_crossings(4))\n"
      ],
      "execution_count": null,
      "outputs": [
        {
          "output_type": "stream",
          "text": [
            "1\n",
            "4\n",
            "9\n",
            "16\n"
          ],
          "name": "stdout"
        }
      ]
    },
    {
      "cell_type": "markdown",
      "metadata": {
        "id": "FuZd75dhuFyh"
      },
      "source": [
        "# Is there a pattern?\n",
        "\n",
        "**switch to IPad/sketch mode**"
      ]
    },
    {
      "cell_type": "markdown",
      "metadata": {
        "id": "N5cyzL8zvju8"
      },
      "source": [
        "## Coding and Patterns\n",
        "\n",
        "Let's explore polynomials using Desmos. Here's an example:\n",
        "$$(x-a)^2 (x-b)^3$$\n",
        "\n",
        "How can we change the graph by changing $a$ and $b$? Can we make more interesting graphs? How can we do the following:\n",
        "- Move the graph left to right (translation)\n",
        "- Move the graph up and down (translation)\n",
        "- Stretch the graph (scaling)\n",
        "\n",
        "Polynomials give very concise instructions for how to make a certain kind of curve. *Computers do this all the time*! Web pages are an example of this. \n",
        "\n",
        "Activity: use inspect element to see and edit the structure of web pages"
      ]
    },
    {
      "cell_type": "code",
      "metadata": {
        "id": "UncfQdF9xhyB"
      },
      "source": [
        ""
      ],
      "execution_count": null,
      "outputs": []
    }
  ]
}