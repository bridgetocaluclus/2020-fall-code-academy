{
 "cells": [
  {
   "cell_type": "markdown",
   "metadata": {},
   "source": [
    "##  If statements\n",
    "In a new script type the following code:\n",
    "\n",
    "```python\n",
    "test = 2\n",
    "if test>20:\n",
    "    print('That number is pretty big!')\n",
    "else:\n",
    "    print('That number is just a little one.')\n",
    "```\n",
    "\n",
    "When we run this for different values of `test` it will check if test is larger than 20: if it is, the script run all the code between `if` and `else` and then skips to after end. If `test` is not larger than 20 it runs all the code between `else` and `end`, skipping the other code.\n",
    "\n",
    "**Exercise**: There’s nothing special about 20 or the code that runs. Change the code above so that if `test` is less than 3 the function prints “It’s no bigger than 3!” and if not it plots a sine function."
   ]
  },
  {
   "cell_type": "code",
   "execution_count": null,
   "metadata": {},
   "outputs": [],
   "source": []
  },
  {
   "cell_type": "markdown",
   "metadata": {},
   "source": [
    "## Nick Namer\n",
    "\n",
    "Lets make a program to give you guys all nick names if your names are too long:\n",
    "\n",
    "```python\n",
    "name = 'Martina'\n",
    "length = len(name)\n",
    "if length > 5:\n",
    "    nick = name[:5]\n",
    "    print(['Yeah, I am just going to call you ', nick])\n",
    "else:\n",
    "    print(['Good to meet you, ', name])\n",
    "    nick=name\n",
    "```\n",
    "\n",
    "What this code does is uses the function `len` to check the length of a name and then if its too long (gasp!) picks the first 5 letters using name[:5].\n",
    "\n",
    "**Exercise:** How do you make it so that it only picks three letters?"
   ]
  },
  {
   "cell_type": "code",
   "execution_count": null,
   "metadata": {},
   "outputs": [],
   "source": []
  },
  {
   "cell_type": "markdown",
   "metadata": {},
   "source": [
    "## Coin Flip\n",
    "\n",
    "Who needs a coin when we have **Python**? We’ll use numpy's random comand to give us a random number between 0 and 1 and then check if it’s greater than .5. If it is, we’ll call it heads!\n",
    "\n",
    "```python\n",
    "import numpy as np\n",
    "coin = np.random.random()\n",
    "\n",
    "if coin >.5:\n",
    "\tprint('Heads!')\n",
    "else:\n",
    "\tprint('Tails!')\n",
    "```\n",
    "\n",
    "Run the code above a couple of time, notice that each time you run it it generates a new random number."
   ]
  },
  {
   "cell_type": "code",
   "execution_count": null,
   "metadata": {},
   "outputs": [],
   "source": []
  },
  {
   "cell_type": "markdown",
   "metadata": {},
   "source": [
    "Is this a fair coin? We can use a for loop to run it 10000 times and check:\n",
    "\n",
    "```python\n",
    "headsCounter = 0\n",
    "tailsCounter = 0\n",
    "for I in range(10000):\n",
    "\tcoin = np.random.random()\n",
    "\tif coin>.5\n",
    "\t\tdisp('Heads!')\n",
    "\t\t# Add 1 to the heads counter\n",
    "\telse\n",
    "\t\tdisp('Tails!')\n",
    "\t\t# Add 1 to the Tails counter\n",
    "```\n",
    "\n",
    "You need to finish the code here to make it add to the heads and tails counters each time heads or tails is flipped. After you’ve figured it out, what do you get? Do you get the same answer each time?\n",
    "\n",
    "\n",
    "If you’re done, change the code so that it plots the result of each coin flip with either a 1 or a 0"
   ]
  },
  {
   "cell_type": "code",
   "execution_count": null,
   "metadata": {},
   "outputs": [],
   "source": []
  },
  {
   "cell_type": "markdown",
   "metadata": {},
   "source": [
    "**Random walk:** If you’ve finished the above try the following: imagine a man is walking and at each step he flips a coin, if the coin is heads he takes a step to the right $(x = x+1)$ and if it’s tails he takes a step to the left $(x = x-1)$. Where do we end up after 100 steps? Write some code to simulate this and run it several times. What do you usually get?"
   ]
  },
  {
   "cell_type": "code",
   "execution_count": null,
   "metadata": {},
   "outputs": [],
   "source": []
  },
  {
   "cell_type": "markdown",
   "metadata": {},
   "source": [
    "## Functions\n",
    "\n",
    "A function in programing is a piece of code that does a specific thing that we want done many times. Lets start by making our nick namer code into a func-tion. To make a function we need to define it and give it a name, then tell python what variables we will pass to it. In the case below:\n",
    "\n",
    "```python\n",
    "def repeat_word(n,word):\n",
    "    word_list = []                   # Define an empty list, this will hold the repeated words\n",
    "    for i in range(n):\n",
    "        print(word)                  # Print a copy of the word to the output\n",
    "        word_list.append(word)       # 'append', that is add, a copy of the word to the word_list. \n",
    "        \n",
    "    return(word_list)\n",
    "\n",
    "repeat_word(4, 'toast')\n",
    "```\n",
    "\n",
    "The function above has the following features:\n",
    "\n",
    "* It is **named** `repeat_word`.\n",
    "* It takes two **inputs**, a variable `n` and a variable `word`. \n",
    "* It **returns**, that is it outputs, the contents of a variable called `word_list`.\n",
    "\n",
    "Before looking below, take a minute and see if you can figure out what the function does. You can change the word and the number. "
   ]
  },
  {
   "cell_type": "code",
   "execution_count": null,
   "metadata": {},
   "outputs": [],
   "source": []
  },
  {
   "cell_type": "markdown",
   "metadata": {},
   "source": [
    "#### Explination of the `repeat_word` function. \n",
    "\n",
    "Before taking a look at the explination, look at the function above and see if you can figure out what each step does. If you don't know the word `append` it means \"Add to the end.\"\n",
    "\n",
    "The function above does the following:\n",
    "\n",
    "* The line `word_list = []` creates an empty list. This is an object that can hold many entries (like a list) but currently doesn't hold any. \n",
    "* Now we run a for loop. We will run the loop `n` times for what ever `n` you specify.  Each time the loop runs we\n",
    "* * Print the word. \n",
    "* * The word 'append' means 'add to the end.' In this case, we add a copy of the word to the end of the list. After we've done this `n` times, we should ahve a list with `n` copies of the word!\n",
    "* Finally, we return the list with `n` copies of the word in it.  \n",
    "\n",
    "#### Nick Namer Function\n",
    "\n",
    "Let's make Nick Namer into a function so we can call it many times:\n",
    "\n",
    "```python\n",
    "def nickName(name):\n",
    "    length = len(name)\n",
    "    if length>5:\n",
    "        nick = name[0:5]\t\n",
    "        print('Yeah, I am just going to call you', nick)\n",
    "        name = nick\n",
    "    else:\n",
    "        print('Good to meet you, ', name)\n",
    "    \n",
    "    return(name)\n",
    "```\n",
    "\n",
    "Run the code above."
   ]
  },
  {
   "cell_type": "code",
   "execution_count": null,
   "metadata": {},
   "outputs": [],
   "source": []
  },
  {
   "cell_type": "markdown",
   "metadata": {},
   "source": [
    "It doesn't do anything! That's because we've only defined the fuction, to run it we need to use `nickName('Your Name')`. Try it now."
   ]
  },
  {
   "cell_type": "code",
   "execution_count": null,
   "metadata": {},
   "outputs": [],
   "source": []
  },
  {
   "cell_type": "markdown",
   "metadata": {},
   "source": [
    "## Mini Projects\n",
    "\n",
    "You and your partner should pick one of the following mini project to work on for the rest of the class period.\n",
    "\n",
    "### Miniproject 1: Quadratic polynomials\n",
    "\n",
    "#### Part 1\n",
    "\n",
    "A quadratic polynomial is a mathematical function of the form $f(x)=ax^2 + bx + c$. We want to build a function that takes variables $a$, $b$, $c$ and tells us all about quadratic polynomials. We’ll start simple and make it more interesting.\n",
    "\n",
    "```python\n",
    "def quad(a,b,c)\n",
    "\t# Put the polynomial code here\n",
    "```\n",
    "\n",
    "We want this function to do three things:\n",
    "* First, create a vector x with all the numbers from -10 to 10, you can pick the `step`.\n",
    "* Second, make a vector y that store the values ax2 + bx + c.\n",
    "* Finally, plot x vs y to get a graph of y = ax2 + bx + c.\n",
    "\n",
    "Try it now! Remember that you have to include numpy and matplotlib using\n",
    "\n",
    "```python\n",
    "import numpy as np\n",
    "from matplotlib import pyplot as plt\n",
    "```"
   ]
  },
  {
   "cell_type": "code",
   "execution_count": null,
   "metadata": {},
   "outputs": [],
   "source": []
  },
  {
   "cell_type": "markdown",
   "metadata": {},
   "source": [
    "#### Part 2\n",
    "Once you have a function that can plot any quadratic polynomial, lets expand it. \n",
    "\n",
    "The maximum or minimum of a quadratic function occurs at $x = −b/2a$. Add to your function code that computes that minimum and plots it on the graph with the parabola. Remember that we can make multiple plot calls to write to the same graph more than once. Also, to plot a single point $(x_,0,y_0)$ just use\n",
    "\n",
    "`plt.plot(x0,y0,'o')`\n",
    "\n",
    "the `'o'` tells Python to plot as a scatter plot. "
   ]
  },
  {
   "cell_type": "code",
   "execution_count": null,
   "metadata": {},
   "outputs": [],
   "source": []
  },
  {
   "cell_type": "markdown",
   "metadata": {},
   "source": [
    "### Part 3\n",
    "\n",
    "The quadratic formula tells us where a quadratic polynomial is zero, these are called the roots of the polynomial.\n",
    "\n",
    "$$\n",
    "x = \\frac{-b\\pm\\sqrt{b^2-4ac}}{2a}\n",
    "$$\n",
    "\n",
    "Add code to your function that checks if the roots are real (ie if $b^22 − 4ac ≥ 0$) and if so finds the roots of $ax^22 + bx + c$. Have your function save both values in a list called roots and then plot both values on the same plot as the graph of the function.\n"
   ]
  },
  {
   "cell_type": "code",
   "execution_count": null,
   "metadata": {},
   "outputs": [],
   "source": []
  },
  {
   "cell_type": "markdown",
   "metadata": {},
   "source": [
    "#### Part 4\n",
    "\n",
    "How would you figure out if the maximum or minimum you found above is, well, a max or a min? Looking at the graph is easy but can you figure out a way that the computer could tell? Discuss this with your group. The command `plt.text(x,y,’Your text’)` places the message 'Your text' on the plot at the point $(x, y)$. Update your function to label the maximum or minimum with max or min, respectively."
   ]
  },
  {
   "cell_type": "code",
   "execution_count": null,
   "metadata": {},
   "outputs": [],
   "source": []
  },
  {
   "cell_type": "markdown",
   "metadata": {},
   "source": [
    "### Miniproject 2: A bouquet of circles\n",
    "\n",
    "#### Part 1\n",
    "\n",
    "We want to make a function that will draw a circle of radius r centered at the point $(x_0, y_0)$. The plot function plots a sequence of $(x, y)$ pairs in any shape we want, so we just need to tell it what the $x$ and $y$ coordinates of the circle are. But these are given by cosine and sine respectively! Try it out, write\n",
    "\n",
    "```python\n",
    "import numpy as np\n",
    "from matplotlib import pyplot as plt\n",
    "\n",
    "\n",
    "t = np.linspace(0,2*3.14)\n",
    "x = np.cos(t)\n",
    "y = np.sin (t)\n",
    "plt.plot(x,y)\n",
    "```\n",
    "\n",
    "Did this make a circle? Why do we use that strange number 2*3.14?"
   ]
  },
  {
   "cell_type": "code",
   "execution_count": null,
   "metadata": {},
   "outputs": [],
   "source": []
  },
  {
   "cell_type": "markdown",
   "metadata": {},
   "source": [
    "Remember that linspace gives us 50 points by default but we could choose to use less. What if we told it to give us only 4 points by using \n",
    "\n",
    "`t = np.linspace(0,2*3.14, 4)`\n",
    "\n",
    "What do you get? What if we use 8 points? 6 points? How would you use the code above to make a square?"
   ]
  },
  {
   "cell_type": "code",
   "execution_count": null,
   "metadata": {},
   "outputs": [],
   "source": []
  },
  {
   "cell_type": "markdown",
   "metadata": {},
   "source": [
    "Define a function\n",
    "```python\n",
    "def draw_circ(r, x0, y0)\n",
    "    # Draw circle \n",
    "\n",
    "```\n",
    "The function takes three variables `r`, `x0` and `y0`. The points on a circle of radius $r$ centered at the point $(x0, y0)$ are given by \n",
    "$$\n",
    "x = x_0 + r cos(t)\n",
    "$$$$\n",
    "y =  y_0 + r sin(t) \n",
    "$$\n",
    "Fill in the code above to finish the function. Once you're done, typing\n",
    "\n",
    "`circ(5, 2, 1)`\n",
    "\n",
    "Should draw a circle of a radius 5 centered at (2,1). Check the axes, this will look the same as any other circle when the window is zoomed in!"
   ]
  },
  {
   "cell_type": "code",
   "execution_count": null,
   "metadata": {},
   "outputs": [],
   "source": []
  },
  {
   "cell_type": "markdown",
   "metadata": {},
   "source": [
    "#### Part 2\n",
    "\n",
    "Now that you have a function that draws circles do the following problems\n",
    "\n",
    "1. Draw two circles of radius 1 next to each other but that only touch a single point on their boundary.\n",
    "2. Add a third circle that only touches the first two at a single point. \n",
    "3. Use the proper `step` in `t = np.linspace(0,2*3.14, step)` to draw a square. Use the coordinates of the square to draw a circle centered at each corner. \n",
    "4. (Challenge) Can you make a function that drawns a polygon with $n$ sides and then draws a circle at each vertex?"
   ]
  },
  {
   "cell_type": "code",
   "execution_count": null,
   "metadata": {},
   "outputs": [],
   "source": []
  },
  {
   "cell_type": "markdown",
   "metadata": {},
   "source": [
    "### Miniproject 3: A story Maze and madlibs:\n",
    "\n",
    "#### Part 1:\n",
    "\n",
    "You can use `x = (\"What's the best number?\")` to request user input and save it in a variable `x`. This allows you to stop your code part way through and interact with a user. For example, the code\n",
    "\n",
    "```python\n",
    "x = input('There are two doors in front of you, door 1 and door 2, behind one lies a Lion, behind the other something way less exciting. Which do you pick?')\n",
    "if x == 1:\n",
    "\tprint('You get to chill with an awesome Lion')\n",
    "else:\n",
    "\tprint('Your life is safe, but you would kind of like a Lion')\n",
    "```\n",
    "\n",
    "and so on. Using more if and then statements you can make an interactive story, or maze. \n",
    "\n"
   ]
  },
  {
   "cell_type": "code",
   "execution_count": null,
   "metadata": {},
   "outputs": [],
   "source": []
  },
  {
   "cell_type": "markdown",
   "metadata": {},
   "source": [
    "#### Part 2:\n",
    "\n",
    "One way we can combine the input is by **concatenating** the strings together. Concatenating means placing one string of letters after the other, and we can do it using the `+` symbol in Python. For example:\n",
    "\n",
    "```python\n",
    "'I would like' + 'some punch'\n",
    "```\n",
    "\n",
    "becomes\n",
    "\n",
    "```python\n",
    "'I would likesome punch'\n",
    "```\n",
    "\n",
    "because Python is very literal and we didn't add a space. We can also put things in variables and then add them together. \n",
    "\n",
    "```python\n",
    "food = input(\"What food would you like?\")\n",
    "'You would like ' +  food + ' for lunch!'\n",
    "```"
   ]
  },
  {
   "cell_type": "code",
   "execution_count": null,
   "metadata": {},
   "outputs": [],
   "source": []
  },
  {
   "cell_type": "markdown",
   "metadata": {},
   "source": [
    "For example, we could program a little madlib from the opening to the first Harry Potter book:\n",
    "\n",
    "    Mr and Mrs Dursley, of number four, Privet Drive, were\n",
    "    proud to say that they were perfectly normal, thank\n",
    "    you very much. They were the last people you’d expect to be\n",
    "    involved in anything strange or mysterious, because they just\n",
    "    didn’t hold with such nonsense. \n",
    "\n",
    "Replace some works\n",
    "\n",
    "    Mr and Mrs (name), of number four, (wild animal) Drive, were\n",
    "    proud to say that they were perfectly (adjective), thank\n",
    "    you very much. They were the (position, ie 1'st) (animal) you’d expect to be\n",
    "    involved in anything (adjective) or (adjective), because they just\n",
    "    didn’t (verb) with such nonsense. \n",
    "    \n",
    "We can go through and take the removed words as input and then build the paragraph by **concatenating** the strings of letters together. \n",
    "\n",
    "For example, here's how we could make the first sentence:\n",
    "\n",
    "```python\n",
    "print(\"Okay! We're going to make a madlib!\")\n",
    "name = input(\"Give me a name\")\n",
    "wild_an = input(\"Now, give me a wild animal\")\n",
    "adj1 = input(\"Now, give me an adjective\")\n",
    "\n",
    "story = \"Mr and Mrs \" + name + \", of number four, \" + wild_an + \" Drive, were proud to say that they were perfectly \" + adj1 + \", thank you very much.\"\n",
    "        \n",
    "print(story)\n",
    "```"
   ]
  },
  {
   "cell_type": "code",
   "execution_count": null,
   "metadata": {},
   "outputs": [],
   "source": []
  },
  {
   "cell_type": "markdown",
   "metadata": {},
   "source": [
    "Finish the paragraph from Harry Potter."
   ]
  },
  {
   "cell_type": "code",
   "execution_count": null,
   "metadata": {},
   "outputs": [],
   "source": []
  },
  {
   "cell_type": "markdown",
   "metadata": {},
   "source": [
    "Now, make your own madlib. Can you combine the madlib and the *if then* statements above to make an even more complicated story?"
   ]
  }
 ],
 "metadata": {
  "kernelspec": {
   "display_name": "Python 3",
   "language": "python",
   "name": "python3"
  },
  "language_info": {
   "codemirror_mode": {
    "name": "ipython",
    "version": 3
   },
   "file_extension": ".py",
   "mimetype": "text/x-python",
   "name": "python",
   "nbconvert_exporter": "python",
   "pygments_lexer": "ipython3",
   "version": "3.6.10"
  }
 },
 "nbformat": 4,
 "nbformat_minor": 4
}
