{
 "cells": [
  {
   "cell_type": "markdown",
   "metadata": {},
   "source": [
    "## Plots\n",
    "**Step 1:** In the code cell, typing\n",
    " \n",
    "```python\n",
    "x = [1,-3,4,2,-7,8,9]\n",
    "```\n",
    "\n",
    "will save the **list** as a variable x. \n",
    "\n",
    "** Step 1:** Type the following commands in the code cell below and run them one by one. Describe what happens:\n",
    "\n",
    "```python\n",
    "x +1\n",
    "x*10\n",
    "x/5\n",
    "x*x\n",
    "x**2\n",
    "```\n"
   ]
  },
  {
   "cell_type": "code",
   "execution_count": null,
   "metadata": {},
   "outputs": [],
   "source": []
  },
  {
   "cell_type": "markdown",
   "metadata": {},
   "source": [
    "**Step 2:** If you need to add a new code block, click on the \"+ Code\" button in the top menu. Create a new code block now below this one."
   ]
  },
  {
   "cell_type": "code",
   "execution_count": null,
   "metadata": {},
   "outputs": [],
   "source": []
  },
  {
   "cell_type": "markdown",
   "metadata": {},
   "source": [
    "**Step 3:** Create a list containing the numbers from 1 to 10 in order."
   ]
  },
  {
   "cell_type": "code",
   "execution_count": null,
   "metadata": {},
   "outputs": [],
   "source": []
  },
  {
   "cell_type": "markdown",
   "metadata": {},
   "source": [
    "**Step 4:** Python has tools to build list for us, for example the command\n",
    "\n",
    "```python\n",
    "x = list(range(2:10))\n",
    "```\n",
    "\n",
    "creates a range of the numbers form 2 to 9, saves it as a list, and then saves them in the variable x. How would you create a list of all numbers from -100 to 100?"
   ]
  },
  {
   "cell_type": "code",
   "execution_count": null,
   "metadata": {},
   "outputs": [],
   "source": []
  },
  {
   "cell_type": "markdown",
   "metadata": {},
   "source": [
    "**Step 5:** Using `range(a,b)` gives you a list of all the whole numbers (integers) from a to b but what if we want to include decimals? Or we don’t want to count by 1? Well, we can just type them in ourselves but the better way to do is to use Python's math library Numpy (called num-py).  To use it, we import numpy using\n",
    "\n",
    "```python\n",
    "import numpy as np\n",
    "```\n",
    "\n",
    "and then use the `np.arange(a,b,c)` command, this will produce a list\n",
    "\n",
    "```python\n",
    "[a, a+c, a+2c, ...]\n",
    "```\n",
    "\n",
    "until the list gets to c. For instance, if we want all even numbers from 0 to 10 we could type\n",
    "\n",
    "```python\n",
    "np.arange(0,10,2)\n",
    "```\n",
    "\n",
    "This will start at 0 and count by 2’s up to 10. Try it below: "
   ]
  },
  {
   "cell_type": "code",
   "execution_count": 9,
   "metadata": {},
   "outputs": [
    {
     "data": {
      "text/plain": [
       "array([0, 2, 4, 6, 8])"
      ]
     },
     "execution_count": 9,
     "metadata": {},
     "output_type": "execute_result"
    }
   ],
   "source": [
    "import numpy as np\n",
    "np.arange(0,10,2)"
   ]
  },
  {
   "cell_type": "markdown",
   "metadata": {},
   "source": [
    "What commands would you type to make the following lists:\n",
    "* All odd numbers from 1 to 99?\n",
    "* All numbers divisible by 8 from 0 to 800?\n",
    "* A backwards list from 100 to 0?\n",
    "* The list [0, .1, .2, …, 9.8, 9.9, 10]?"
   ]
  },
  {
   "cell_type": "code",
   "execution_count": null,
   "metadata": {},
   "outputs": [],
   "source": []
  },
  {
   "cell_type": "markdown",
   "metadata": {},
   "source": [
    "**Step 6:** To plot things we'll need another library, the MatPlotLib library. \n",
    "\n",
    "```python\n",
    "from matplotlib import pyplot as plt\n",
    "```\n",
    "\n",
    "The function `plt.plot(x,y)` works as follows: for `x = [x1, x2, ..., xn]` and `y = [y1, y2, ..., yn]` it plots the points (x1, y1), (x2, y2) up to (xn, yn) and connects them with lines. For example\n",
    "\n",
    "```python\n",
    "plt.plot([1,0,1],[2,3,-1])\n",
    "```\n",
    "\n",
    "plots the lines from (1,2) to (0,3) to (1,-1). Can you plot a triangle?"
   ]
  },
  {
   "cell_type": "code",
   "execution_count": null,
   "metadata": {},
   "outputs": [],
   "source": []
  },
  {
   "cell_type": "markdown",
   "metadata": {},
   "source": [
    "**Step 7:** Try plotting a square. You’ll notice that nothing seems to happen! That’s because Python zooms in so that the square is the boundary of the window. We can change the boundary by typing\n",
    "\n",
    "```python\n",
    "plt.xlim([xmin, xmax])\n",
    "plt.ylim([xmin, xmax])\n",
    "```\n",
    "\n",
    "where the x-axis goes from xmin to xmax and the y-axis goes from ymin to ymax. Change the axes so you can see your square.\n"
   ]
  },
  {
   "cell_type": "code",
   "execution_count": null,
   "metadata": {},
   "outputs": [],
   "source": []
  },
  {
   "cell_type": "markdown",
   "metadata": {},
   "source": [
    "**Step 8:** Plot a star."
   ]
  },
  {
   "cell_type": "code",
   "execution_count": null,
   "metadata": {},
   "outputs": [],
   "source": []
  },
  {
   "cell_type": "markdown",
   "metadata": {},
   "source": [
    "#### Adding Color\n",
    "\n",
    "**Step 9:** There are two ways to change the color of a plot, you can use the command\n",
    "\n",
    "```python\n",
    "plt.plot([0,1,0],[1,2,1], color=[1,0,0])\n",
    "```\n",
    "\n",
    "to plot the color specified by [red,green,blue], where red, green, blue take on values between 0 (none) and 1 (full). For example blue is `[0,0,1]`, red is `[1,0,0]` and purple = red + blue is `[1,0,1]`. Try it now.\n",
    "\n",
    "For some colors, you can also use shorthand letters, for example\n",
    "\n",
    "```python\n",
    "plt.plot([0,1,0],[1,2,1], 'm')\n",
    "```\n",
    "\n",
    "plots in magenta. A full list the shorthand colors can be found in the cheat sheet or in the documentation, by typing doc plot.\n"
   ]
  },
  {
   "cell_type": "code",
   "execution_count": null,
   "metadata": {},
   "outputs": [],
   "source": []
  },
  {
   "cell_type": "markdown",
   "metadata": {},
   "source": [
    "**Step 10:** Plot a yellow star!"
   ]
  },
  {
   "cell_type": "code",
   "execution_count": null,
   "metadata": {},
   "outputs": [],
   "source": []
  },
  {
   "cell_type": "markdown",
   "metadata": {},
   "source": [
    "**Step 11:** There are many things you can change about plots. You can change their color, the style of the line, the style of the marker for each point, and more. For example,\n",
    "\n",
    "```python\n",
    "plt.plot([0,2],[2,0], 'b--o')\n",
    "```\n",
    "\n",
    "plots a blue line (’b’), dashed (’–’) line with each point marked by an ’o’. A full list of commands is given below at the end of this guide. Try to plot your first initial in your favorite color, with your favorite style.\n"
   ]
  },
  {
   "cell_type": "code",
   "execution_count": 26,
   "metadata": {},
   "outputs": [
    {
     "data": {
      "text/plain": [
       "[<matplotlib.lines.Line2D at 0x1a74bc4df60>]"
      ]
     },
     "execution_count": 26,
     "metadata": {},
     "output_type": "execute_result"
    },
    {
     "data": {
      "image/png": "[encoded data removed]",
      "text/plain": [
       "<Figure size 432x288 with 1 Axes>"
      ]
     },
     "metadata": {
      "needs_background": "light"
     },
     "output_type": "display_data"
    }
   ],
   "source": [
    "plt.plot([0,2],[2,0], 'b--o')"
   ]
  },
  {
   "cell_type": "markdown",
   "metadata": {},
   "source": [
    "**Step 12:** By calling `plt.plot` multiple times in a single code cell, you can draw multiple times to the same plot. How would you plot a smiley face? Or if you’re too baaad for that a skull and cross bones?"
   ]
  },
  {
   "cell_type": "code",
   "execution_count": null,
   "metadata": {},
   "outputs": [],
   "source": []
  },
  {
   "cell_type": "markdown",
   "metadata": {},
   "source": [
    "#### Plotting Functions\n",
    "\n",
    "**Step 13:** Plotting Functions. To plot the graph of a function in Matlab we must start with a vector of point we want to plot it over. For instance, to plot $y = x^2$ from -4 to 4 we would type\n",
    "\n",
    "```python\n",
    "x = np.arange(-4,4)\n",
    "y = x**2\n",
    "plt.plot(x,y)\n",
    "```\n",
    "\n",
    "Remember that to square things you have to use `**2` in Python! How would you plot $y = x^2 − 2x + 5$?"
   ]
  },
  {
   "cell_type": "code",
   "execution_count": null,
   "metadata": {},
   "outputs": [],
   "source": []
  },
  {
   "cell_type": "markdown",
   "metadata": {},
   "source": [
    "**Step 14:** Plot $y = e^x$ for $x = -10 to 1$. You will have to use the function `np.exp(x)` since Matlab doesn’t know what `e` is!"
   ]
  },
  {
   "cell_type": "code",
   "execution_count": null,
   "metadata": {},
   "outputs": [],
   "source": []
  },
  {
   "cell_type": "markdown",
   "metadata": {},
   "source": [
    "**Step 15:** Use two `plt.plot` calls to plot $y = sin(x)$ and $y = cos(x)$ for x from 0 to 10 on the same plot. You will need to use `np.sin()` and `np.cos()`. "
   ]
  },
  {
   "cell_type": "code",
   "execution_count": null,
   "metadata": {},
   "outputs": [],
   "source": []
  },
  {
   "cell_type": "markdown",
   "metadata": {},
   "source": [
    "## Loops: Getting a computer to work for you!\n",
    "\n",
    "A for loop allows us to do something many times, but slightly different each time. In the code block below type the following\n",
    "\n",
    "```python\n",
    "for i in [1,3,6,4,2,6,4,5,3]:\n",
    "    print(i**2)\n",
    "    print(np.cos(i))\n",
    "print(\"Done!\")\n",
    "```  \n",
    "\n",
    "Adding the `print` to each computation make Python tell you the answer right away, usually it will only print the result of your last line. \n",
    "\n",
    "What this does is sets `i` to `1`, the first number in the list. It then performs the code inside the loop, ie it computes `i` squared, computes cosine of `i` and hits the end of the indented block. The indent tells Python which part it should do over and over. When it runs out of indented lines, it goes back to the beginning and sets `i` to the second number on this list, in this case `3`. It then runs through the code again, sets `i` to the third number, etc."
   ]
  },
  {
   "cell_type": "code",
   "execution_count": null,
   "metadata": {},
   "outputs": [],
   "source": []
  },
  {
   "cell_type": "markdown",
   "metadata": {},
   "source": [
    "Now, the code can be anything. For example, consider\n",
    "\n",
    "```python\n",
    "\tfor i in range(0,11)\n",
    "\t\tx=[0,i]\n",
    "\t\ty=[10-i,0]\n",
    "\t\tplt.plot(x,y)\n",
    "\t\thold on\n",
    "```\n",
    "\n",
    "Before running this, what does it do? Well first remember that `range(1,11)` is really a range obect containing the numbers `[1,2,3,4,5,6,7,8,9,10]`. Then describe what the code does. What does the hold on do?\n"
   ]
  },
  {
   "cell_type": "code",
   "execution_count": null,
   "metadata": {},
   "outputs": [],
   "source": []
  },
  {
   "cell_type": "markdown",
   "metadata": {},
   "source": [
    "Finally, lets say we want to sum all the number from 1 to 10000. The following code does that by defining a variable total and adding i to it for i each number \n",
    "from 1 to 10000:\n",
    "\n",
    "```python\n",
    "total = 0\n",
    "for i in range(1, 10001)\n",
    "\ttotal = total + i\n",
    "```\n",
    "\n",
    "How can we know that this code actually gave us the right answer?"
   ]
  },
  {
   "cell_type": "code",
   "execution_count": null,
   "metadata": {},
   "outputs": [],
   "source": []
  },
  {
   "cell_type": "markdown",
   "metadata": {},
   "source": [
    "**Question 1:** How would you modify to “sum” code to calculate the factorial $100!=100 \\times 99 \\times 98 \\times ... \\times 2 \\times 1$\n"
   ]
  },
  {
   "cell_type": "code",
   "execution_count": null,
   "metadata": {},
   "outputs": [],
   "source": []
  },
  {
   "cell_type": "markdown",
   "metadata": {},
   "source": [
    "**Question 2:** \tProblem: We want to plot of row of triangles. We now how to make one triangle by specifying he x-coordinates in a vector x and the y-coordinates in a vector y and plotting them. \n",
    "\n",
    "The following code draws two triangles sort of next to eachother:\n",
    "\n",
    "```python\n",
    "x = [0,2,1,0]\n",
    "y = [0,0,1,0]\n",
    "plt.plot(x,y)\n",
    "x = [1,3,2,1]\n",
    "plt.plot(x,y)\n",
    "```\n",
    "\n",
    "It would be nice if we could just add one to each coordinate using a simple expression. In Python, this is what arrays are for! You may have noticed that when we use `np.arange()` we can something called and `array` out; an `array` is an object that allows you to do some math on the whole list. To turn a list into an array, we just use `np.array([0,2,1,0])`\n",
    "\n",
    "```python\n",
    "x = np.array([0,2,1,0])\n",
    "y = np.array([0,0,1,0])\n",
    "plt.plot(x,y)\n",
    "plt.plot(x + 1,y)\n",
    "```"
   ]
  },
  {
   "cell_type": "code",
   "execution_count": null,
   "metadata": {},
   "outputs": [],
   "source": []
  },
  {
   "cell_type": "markdown",
   "metadata": {},
   "source": [
    "In general, by using `plt.plot(x+i,y)` we can shift it over by `i` units. Can you make the two triangles sit so that only a vertex is touching?"
   ]
  },
  {
   "cell_type": "code",
   "execution_count": null,
   "metadata": {},
   "outputs": [],
   "source": []
  },
  {
   "cell_type": "markdown",
   "metadata": {},
   "source": [
    "**Question 3:** Now, use a for loop to print 20 triangles next to each other. Can you control their color?"
   ]
  },
  {
   "cell_type": "code",
   "execution_count": null,
   "metadata": {},
   "outputs": [],
   "source": []
  },
  {
   "cell_type": "markdown",
   "metadata": {},
   "source": [
    "**Question 4:** Did you know you can put a for loop in a for loop? What do you need to add to the following code to make a grid of triangles?\n",
    "\n",
    "```python\n",
    "for i in range(0,10):\n",
    "    for j in range(0,10):\n",
    "    % your code here!\n",
    "    end\n",
    "end\n",
    "```\n"
   ]
  },
  {
   "cell_type": "code",
   "execution_count": null,
   "metadata": {},
   "outputs": [],
   "source": []
  },
  {
   "cell_type": "markdown",
   "metadata": {},
   "source": [
    "**Question 5:** The Fibonacci sequence is a sequence of integers often associated with growth in nature. The sequence is generated by starting with F1 = 1, F2 = 2 and then defining the rest of the numbers by\n",
    "$$F_n = Fn − 1 + Fn − 2$$\n",
    "So for example, `F3 = F2 + F1 = 1 + 1 = 2`. The first 6 numbers of the se-quence are\n",
    "\n",
    "|F1|F2|F3|F4|F5|F6|\n",
    "|--|--|--|--|--|--|\n",
    "|1 |1 |2 |3 |5 |8 |\n",
    "\n",
    "What are the first 10 numbers of the Fibonacci sequence?\n",
    "\n",
    "We want to use Matlab and a for loop to generate a list of the first 100 num-bers of the Fibonacci sequence. To do this, we will define a variable fibSeq and define the first two elements to be 1:\n",
    "\n",
    "```python\n",
    "fibSeq = list(range(100))\n",
    "fibSeq[0] = 1\n",
    "fibSeq[1] = 1\n",
    "    ## Now we want to define a for loop\n",
    "for i in range(2:100): \n",
    "    ## Compute fibSeq(i)\n",
    "```\n",
    "\n",
    "What code do you need to put in instead of the comment to compute fib-Seq(i)?\n"
   ]
  },
  {
   "cell_type": "code",
   "execution_count": null,
   "metadata": {},
   "outputs": [],
   "source": []
  },
  {
   "cell_type": "markdown",
   "metadata": {},
   "source": []
  }
 ],
 "metadata": {
  "kernelspec": {
   "display_name": "Python 3",
   "language": "python",
   "name": "python3"
  },
  "language_info": {
   "codemirror_mode": {
    "name": "ipython",
    "version": 3
   },
   "file_extension": ".py",
   "mimetype": "text/x-python",
   "name": "python",
   "nbconvert_exporter": "python",
   "pygments_lexer": "ipython3",
   "version": "3.6.10"
  }
 },
 "nbformat": 4,
 "nbformat_minor": 4
}
